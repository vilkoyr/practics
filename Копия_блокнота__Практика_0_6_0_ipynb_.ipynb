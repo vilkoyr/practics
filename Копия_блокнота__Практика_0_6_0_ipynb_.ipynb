{
  "nbformat": 4,
  "nbformat_minor": 0,
  "metadata": {
    "colab": {
      "provenance": []
    },
    "kernelspec": {
      "name": "python3",
      "display_name": "Python 3"
    },
    "language_info": {
      "name": "python"
    }
  },
  "cells": [
    {
      "cell_type": "markdown",
      "source": [
        "\n",
        "\n",
        "---\n",
        "\n"
      ],
      "metadata": {
        "id": "tKNG_RzWxG6g"
      }
    },
    {
      "cell_type": "markdown",
      "source": [
        "# **Дисклеймер**\n",
        "\n",
        "В данной практике будет введен дополнительный критерий: чистота и читаемость кода, а также соблюдение правил описанных в начале практики"
      ],
      "metadata": {
        "id": "cFcrKfclKWh0"
      }
    },
    {
      "cell_type": "markdown",
      "source": [
        "\n",
        "\n",
        "---\n",
        "\n"
      ],
      "metadata": {
        "id": "0SnE87X1xDlV"
      }
    },
    {
      "cell_type": "markdown",
      "source": [
        "# Задание 1\n",
        "\n",
        "**Задача:**\n",
        "\n",
        "Напишите функцию очищающий список от дубликтов\n",
        "\n",
        "\n",
        "*Запрещено:*\n",
        "\n",
        "*   Использовать set() или готовые функции очищающие список от дубликатов\n",
        "\n",
        "Вввод:\n",
        "\n",
        "```\n",
        "apple banana apple 1 3 4 4 5\n",
        "```\n",
        "\n",
        "\n",
        "Вывод:\n",
        "\n",
        "```\n",
        "apple banana 1 3 4 5\n",
        "```\n",
        "\n"
      ],
      "metadata": {
        "id": "VxawR9NubT_F"
      }
    },
    {
      "cell_type": "code",
      "source": [
        "input_a = input()\n",
        "input_a = input_a.split()\n",
        "output_a = []\n",
        "for i in input_a:\n",
        "    if i not in output_a:\n",
        "      output_a.append(i)\n",
        "print(output_a)"
      ],
      "metadata": {
        "id": "ml5gnbPXbeju",
        "colab": {
          "base_uri": "https://localhost:8080/"
        },
        "outputId": "a7f39596-9b75-469c-faef-78a5d335b1c4"
      },
      "execution_count": null,
      "outputs": [
        {
          "output_type": "stream",
          "name": "stdout",
          "text": [
            "apple banana apple 1 3 4 4 5\n",
            "['apple', 'banana', '1', '3', '4', '5']\n"
          ]
        }
      ]
    },
    {
      "cell_type": "markdown",
      "source": [
        "# Задание 2\n",
        "\n",
        "**Задача:**\n",
        "\n",
        "Написать функцию для нахождения простых чисел в диапазоне\n",
        "\n",
        "Ввод:\n",
        "\n",
        "```\n",
        "10, 50\n",
        "```\n",
        "\n",
        "Вывод:\n",
        "\n",
        "```\n",
        "11, 13, 17, 19, 23, 29, 31, 37, 41, 43, 47\n",
        "```"
      ],
      "metadata": {
        "id": "y05x0eD0cVCC"
      }
    },
    {
      "cell_type": "code",
      "source": [
        "start=int(input())\n",
        "end=int(input())\n",
        "res=[]\n",
        "for i in range (start,end):\n",
        "  for j in range(2,int(i**0.5)+1):\n",
        "    fl=i%j\n",
        "    if fl==0:\n",
        "      break\n",
        "  if fl!=0:\n",
        "    res.append(i)\n",
        "print(res)"
      ],
      "metadata": {
        "id": "XSMJnLgrc6Bf",
        "colab": {
          "base_uri": "https://localhost:8080/"
        },
        "outputId": "04df4ce2-fb40-4bae-99d6-ede055733ebb"
      },
      "execution_count": null,
      "outputs": [
        {
          "output_type": "stream",
          "name": "stdout",
          "text": [
            "10\n",
            "50\n",
            "[11, 13, 17, 19, 23, 29, 31, 37, 41, 43, 47]\n"
          ]
        }
      ]
    },
    {
      "cell_type": "markdown",
      "source": [
        "# Задание 3\n",
        "\n",
        "Напишите функцию для объединения двух списков (список ключей и список значении) в словарь\n",
        "\n",
        "*Запрещено:*\n",
        "\n",
        "*   Использования готовых функции для объединения списков (пример: zip() )\n",
        "\n",
        "Дано:\n",
        "\n",
        "```\n",
        "keys = ['a', 'b', 'c', 'e' ]\n",
        "values = [1, 2, 3, 4]\n",
        "```\n",
        "\n",
        "Вывод:\n",
        "```\n",
        "{'a': 1, 'b': 2, 'c': 3, 'e': 4}\n",
        "```\n",
        "\n",
        "\n"
      ],
      "metadata": {
        "id": "vYM0LyxxdElN"
      }
    },
    {
      "cell_type": "code",
      "source": [
        "keys = ['a', 'b', 'c', 'e' ]\n",
        "values = [1, 2, 3, 4]\n",
        "res={}\n",
        "for i in range(len(keys)):\n",
        "    res[keys[i]]=values[i]\n",
        "print(res)"
      ],
      "metadata": {
        "id": "CRvhHTjCdvjS",
        "colab": {
          "base_uri": "https://localhost:8080/"
        },
        "outputId": "209c747f-b841-4f72-85da-3b589892867e"
      },
      "execution_count": null,
      "outputs": [
        {
          "output_type": "stream",
          "name": "stdout",
          "text": [
            "{'a': 1, 'b': 2, 'c': 3, 'e': 4}\n"
          ]
        }
      ]
    },
    {
      "cell_type": "markdown",
      "source": [
        "# Задание 4\n",
        "\n",
        "Напишите функцию(ии) для подсчета статистических параметров:\n",
        "*   Сумму\n",
        "*   Среднее арифметическое\n",
        "*   Медиану\n",
        "*   Моду\n",
        "\n",
        "\n",
        "*Запрещено:*\n",
        "\n",
        "*   sum()\n",
        "*   sorted()\n",
        "*   и других функции предоставляющих готовое решение задания\n",
        "\n",
        "Дано:\n",
        "\n",
        "```\n",
        "numbers = [1, 2, 2, 3, 4, 5, 6, 7, 8 ,9 ,10]\n",
        "\n",
        "```\n",
        "\n",
        "Вывод:\n",
        "```\n",
        "{'mean': 5.181818181818182, 'median': 5, 'mode': 2, 'sum': 57}\n",
        "```\n"
      ],
      "metadata": {
        "id": "L_w8H8i-fQcP"
      }
    },
    {
      "cell_type": "code",
      "source": [
        "numbers = [1, 2, 2, 3, 4, 5, 6, 7, 8 ,9 ,10]\n",
        "\n",
        "sum=0\n",
        "for i in numbers:sum+=i\n",
        "\n",
        "\n",
        "average=sum/len(numbers)\n",
        "\n",
        "\n",
        "sort_numb = []\n",
        "for num in numbers:\n",
        "    inserted = False\n",
        "    for i in range(len(sort_numb)):\n",
        "        if num < sort_numb[i]:\n",
        "            sort_numb.insert(i, num)\n",
        "            inserted = True\n",
        "            break\n",
        "    if not inserted:\n",
        "        sort_numb.append(num)\n",
        "middle = len(sort_numb) // 2\n",
        "if len(sort_numb) % 2 == 0:\n",
        "    median = (sort_numb[middle - 1] + sort_numb[middle]) / 2\n",
        "else:\n",
        "    median = sort_numb[middle]\n",
        "\n",
        "\n",
        "res={}\n",
        "for i in numbers:\n",
        "  if i not in res:res[i]=1\n",
        "  else: res[i]+=1\n",
        "m_count=0\n",
        "for num,quantity in res.items():\n",
        "  if m_count<quantity:\n",
        "    m_count=num\n",
        "\n",
        "\n",
        "print(sum,average,median,m_count)"
      ],
      "metadata": {
        "id": "dW6jW_rjfuba",
        "colab": {
          "base_uri": "https://localhost:8080/"
        },
        "outputId": "3f7723c4-cda1-49be-df8a-d4ee8bb29692"
      },
      "execution_count": null,
      "outputs": [
        {
          "output_type": "stream",
          "name": "stdout",
          "text": [
            "57 5.181818181818182 5 2\n"
          ]
        }
      ]
    },
    {
      "cell_type": "markdown",
      "source": [
        "# Задание 5\n",
        "\n",
        "На ввод поступает строка символов. Строка состоит из слов, которые отделены друг от друга пробелами. Необходимо вывести самое длинное слово и его порядковый номер.\n",
        "\n",
        "*Запрещено:*\n",
        "\n",
        "*   len()\n",
        "\n",
        "Дано:\n",
        "\n",
        "```\n",
        "Страдание и боль всегда обязательны для широкого сознания и глубокого сердца.\n",
        "\n",
        "```\n",
        "\n",
        "Вывод:\n",
        "```\n",
        "Самое длинное слово с номером 5: обязательны\n",
        "```"
      ],
      "metadata": {
        "id": "hZW0NZ7SgTcp"
      }
    },
    {
      "cell_type": "code",
      "source": [
        "stroka=input()\n",
        "stroka=stroka.split()\n",
        "res=[]\n",
        "max_len=0\n",
        "sum=0\n",
        "ind=0\n",
        "\n",
        "for word in stroka:\n",
        "  sum=0\n",
        "  ind+=1\n",
        "  for i in word:\n",
        "    sum+=1\n",
        "    if sum>max_len:\n",
        "      max_len=sum\n",
        "      max_word=word\n",
        "      max_ind=ind\n",
        "\n",
        "print(f'Самое длинное слово с номером {max_ind}: {max_word}')"
      ],
      "metadata": {
        "id": "rC5DpHHLsDYp",
        "colab": {
          "base_uri": "https://localhost:8080/"
        },
        "outputId": "5dd9bd23-124c-4c5b-dbf5-d4039cba0647"
      },
      "execution_count": null,
      "outputs": [
        {
          "output_type": "stream",
          "name": "stdout",
          "text": [
            "Страдание и боль всегда обязательны для широкого сознания и глубокого сердца.\n",
            "Самое длинное слово с номером 5: обязательны\n"
          ]
        }
      ]
    },
    {
      "cell_type": "markdown",
      "source": [
        "# Задание 6\n",
        "\n",
        "Напишите программу, для управления оценками студентов, со следующими функциями:\n",
        "\n",
        "* Добавление информации о студенте и его оценках.\n",
        "* Подсчет среднего балла студента.\n",
        "* Получение списка всех студентов с их средними баллами.\n",
        "* Поиск студента по имени и вывод его оценок и среднего балла.\n",
        "\n",
        "\n",
        "\n"
      ],
      "metadata": {
        "id": "k5BzJW5ZeaQN"
      }
    },
    {
      "cell_type": "code",
      "source": [
        "def add_mark(name,mark):\n",
        "  students[name].append(mark)\n",
        "  print(f'студенту {name} добавлена отметка {mark}')\n",
        "\n",
        "\n",
        "def add_student(name):\n",
        "  students[name]=[]\n",
        "  print(f'студент {name} добавлен в список')\n",
        "\n",
        "\n",
        "def all_students():\n",
        "  average_marks={}\n",
        "  for name, marks in students.items():\n",
        "    average_marks[name] = (sum(marks)/len(marks))\n",
        "  return average_marks\n",
        "\n",
        "\n",
        "def score_student(name):\n",
        "  print(f'студент {name} имеет средний балл {sum(students[name])/len(students[name])}\\n')\n",
        "\n",
        "\n",
        "students={\n",
        "    'дурак':[20],\n",
        "    'дурик':[10]\n",
        "}\n",
        "\n",
        "\n",
        "while True:\n",
        "  choice=int(input('выбирите номер опции:\\n1.добавить оценку студенту\\n2.добавить студента\\n3.получение списка всех студентов с их средними баллами\\n4.поиск студента и его средний балл\\n5.выход\\n'))\n",
        "  if choice==1:\n",
        "    add_mark(input('введите имя студента:'),int(input('введите оценку:')))\n",
        "  elif choice==2:\n",
        "    add_student(input('введите имя студента:'))\n",
        "  elif choice==3:\n",
        "    for name,marks in all_students().items():\n",
        "      print(f'{name}:{marks}')\n",
        "  elif choice==4:\n",
        "    score_student(input('введите имя студента'))\n",
        "  elif choice==5:\n",
        "    break"
      ],
      "metadata": {
        "id": "cvhlltVbdyoL",
        "colab": {
          "base_uri": "https://localhost:8080/"
        },
        "outputId": "15347465-5af7-443d-f53d-f7339223e8b8"
      },
      "execution_count": null,
      "outputs": [
        {
          "name": "stdout",
          "output_type": "stream",
          "text": [
            "выбирите номер опции:\n",
            "1.добавить оценку студенту\n",
            "2.добавить студента\n",
            "3.получение списка всех студентов с их средними баллами\n",
            "4.поиск студента и его средний балл\n",
            "5.выход\n",
            "3\n",
            "дурак:20.0\n",
            "дурик:10.0\n",
            "выбирите номер опции:\n",
            "1.добавить оценку студенту\n",
            "2.добавить студента\n",
            "3.получение списка всех студентов с их средними баллами\n",
            "4.поиск студента и его средний балл\n",
            "5.выход\n",
            "5\n"
          ]
        }
      ]
    },
    {
      "cell_type": "markdown",
      "source": [
        "# Задание 7\n",
        "\n",
        "\n",
        "**Задача:**\n",
        "\n",
        "Создайте приложение-викторину с командной строкой, которое задает пользователям вопросы по различным темам и отслеживает их результаты.\n",
        "\n",
        "Ключевые особенности:\n",
        "\n",
        "*   Хранение данных о вопросах и ответах на них, а также баллов за каждый вопрос\n",
        "*   Реализуйте функцию для представления вопросов, принятия ответов пользователей и предоставления обратной связи о том, являются ли ответы правильными или неправильными.\n",
        "*  После завершения викторины отобразите общий балл пользователя из числа ответов на вопросы.\n",
        "*  Реализуйте функцию добавления нового вопроса\n",
        "*  Реализуйте функцию перемешивания вопросов, для отображения случайного вопроса\n"
      ],
      "metadata": {
        "id": "iQ8Z-7PYgu1_"
      }
    },
    {
      "cell_type": "code",
      "source": [
        "import random\n",
        "\n",
        "\n",
        "questions = [{'question': 'какой цвет моих глаз?', 'answer': 'зеленого'},{'question': 'какой глаз зеленее?', 'answer': 'левый'}]\n",
        "\n",
        "def add_question():\n",
        "    question = input('введите вопрос: ')\n",
        "    answer = input('введите правильный ответ: ')\n",
        "    questions.append({'question': question, 'answer': answer})\n",
        "\n",
        "\n",
        "def run_quiz():\n",
        "    random.shuffle(questions)\n",
        "    score = 0\n",
        "    print('ответьте на следующие вопросы:')\n",
        "    for idx, q in enumerate(questions):\n",
        "      user_ans = input(f\"вопрос {idx + 1}: {q['question']} \")\n",
        "      if user_ans.lower() == q['answer'].lower():\n",
        "        score += 1\n",
        "        print('правильно!')\n",
        "      else:\n",
        "        print(f'неправильно, дурак! правильный ответ: {q['answer']}')\n",
        "    print(f'на этом все! ваш общий балл: {score} из {len(questions)}.')\n",
        "\n",
        "\n",
        "while True:\n",
        "    print('вы хотите:\\n1. добавить вопрос\\n2. запустить викторину\\n3. выход')\n",
        "    choice = input('введите номер действия: ')\n",
        "    if choice == '1':\n",
        "        add_question()\n",
        "    elif choice == '2':\n",
        "        run_quiz()\n",
        "    elif choice=='3':\n",
        "        break"
      ],
      "metadata": {
        "id": "DhxyYwHwh2V4",
        "colab": {
          "base_uri": "https://localhost:8080/"
        },
        "outputId": "db2a43ee-c2a9-4aae-d93b-2f16bafa9437"
      },
      "execution_count": null,
      "outputs": [
        {
          "output_type": "stream",
          "name": "stdout",
          "text": [
            "вы хотите:\n",
            "1. добавить вопрос\n",
            "2. запустить викторину\n",
            "введите номер действия: 2\n",
            "ответьте на следующие вопросы:\n",
            "вопрос 1: какой глаз зеленее? правый\n",
            "неправильно, дурак! правильный ответ: левый\n",
            "вопрос 2: какой цвет моих глаз? синий\n",
            "неправильно, дурак! правильный ответ: зеленого\n",
            "на этом все! ваш общий балл: 0 из 2.\n"
          ]
        }
      ]
    }
  ]
}